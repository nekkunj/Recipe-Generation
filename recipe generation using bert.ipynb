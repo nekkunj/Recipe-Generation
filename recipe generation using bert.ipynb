{
 "cells": [
  {
   "cell_type": "code",
   "execution_count": 1,
   "id": "b4866a73",
   "metadata": {},
   "outputs": [
    {
     "name": "stderr",
     "output_type": "stream",
     "text": [
      "/Library/Frameworks/Python.framework/Versions/3.10/lib/python3.10/site-packages/tqdm/auto.py:22: TqdmWarning: IProgress not found. Please update jupyter and ipywidgets. See https://ipywidgets.readthedocs.io/en/stable/user_install.html\n",
      "  from .autonotebook import tqdm as notebook_tqdm\n"
     ]
    }
   ],
   "source": [
    "import pandas as pd\n",
    "import numpy as np\n",
    "from transformers import DistilBertTokenizer, DistilBertForQuestionAnswering, pipeline\n",
    "from sklearn.feature_extraction.text import TfidfVectorizer\n",
    "from sklearn.metrics.pairwise import cosine_similarity\n",
    "from tensorflow.keras.preprocessing.text import Tokenizer\n",
    "from tensorflow.keras.preprocessing.sequence import pad_sequences\n",
    "from tensorflow.keras.models import Sequential\n",
    "from tensorflow.keras.layers import LSTM, Dense, Embedding, Dropout,Input,concatenate\n",
    "from tensorflow.keras.callbacks import EarlyStopping\n",
    "from datetime import timedelta, datetime\n",
    "from sklearn.model_selection import train_test_split\n",
    "from tensorflow.keras.models import Model\n",
    "import time"
   ]
  },
  {
   "cell_type": "code",
   "execution_count": 89,
   "id": "a990bcc7-e594-41ba-8b65-c607bbe401b7",
   "metadata": {},
   "outputs": [],
   "source": [
    "recipes = pd.read_csv('keywordsfulldone.csv')"
   ]
  },
  {
   "cell_type": "code",
   "execution_count": 90,
   "id": "2dcd82d3-3b81-4931-ba89-1f502a89f667",
   "metadata": {},
   "outputs": [
    {
     "data": {
      "text/plain": [
       "52286"
      ]
     },
     "execution_count": 90,
     "metadata": {},
     "output_type": "execute_result"
    }
   ],
   "source": [
    "len(recipes)"
   ]
  },
  {
   "cell_type": "code",
   "execution_count": 46,
   "id": "eda862a6-bc3f-47e6-9416-0728b70c4f91",
   "metadata": {},
   "outputs": [
    {
     "data": {
      "text/html": [
       "<div>\n",
       "<style scoped>\n",
       "    .dataframe tbody tr th:only-of-type {\n",
       "        vertical-align: middle;\n",
       "    }\n",
       "\n",
       "    .dataframe tbody tr th {\n",
       "        vertical-align: top;\n",
       "    }\n",
       "\n",
       "    .dataframe thead th {\n",
       "        text-align: right;\n",
       "    }\n",
       "</style>\n",
       "<table border=\"1\" class=\"dataframe\">\n",
       "  <thead>\n",
       "    <tr style=\"text-align: right;\">\n",
       "      <th></th>\n",
       "      <th>Unnamed: 0.1</th>\n",
       "      <th>Unnamed: 0</th>\n",
       "      <th>RecipeId</th>\n",
       "      <th>Name</th>\n",
       "      <th>AuthorId_x</th>\n",
       "      <th>AuthorName_x</th>\n",
       "      <th>CookTime</th>\n",
       "      <th>PrepTime</th>\n",
       "      <th>TotalTime</th>\n",
       "      <th>Description</th>\n",
       "      <th>...</th>\n",
       "      <th>FiberContent</th>\n",
       "      <th>SugarContent</th>\n",
       "      <th>ProteinContent</th>\n",
       "      <th>RecipeInstructions</th>\n",
       "      <th>ReviewId</th>\n",
       "      <th>AuthorId_y</th>\n",
       "      <th>AuthorName_y</th>\n",
       "      <th>Rating</th>\n",
       "      <th>Review</th>\n",
       "      <th>extracted_keywords</th>\n",
       "    </tr>\n",
       "  </thead>\n",
       "  <tbody>\n",
       "    <tr>\n",
       "      <th>0</th>\n",
       "      <td>0</td>\n",
       "      <td>0</td>\n",
       "      <td>40</td>\n",
       "      <td>Best Lemonade</td>\n",
       "      <td>1566</td>\n",
       "      <td>Stephen Little</td>\n",
       "      <td>PT5M</td>\n",
       "      <td>PT30M</td>\n",
       "      <td>PT35M</td>\n",
       "      <td>This is from one of my  first Good House Keepi...</td>\n",
       "      <td>...</td>\n",
       "      <td>0.4</td>\n",
       "      <td>77.2</td>\n",
       "      <td>0.3</td>\n",
       "      <td>c(\"Into a 1 quart Jar with tight fitting lid, ...</td>\n",
       "      <td>34854</td>\n",
       "      <td>59064</td>\n",
       "      <td>Missy Wombat</td>\n",
       "      <td>4.333333</td>\n",
       "      <td>My favourite lemonade recipe is essentially th...</td>\n",
       "      <td>['My favourite lemonade recipe', 'this', 'the ...</td>\n",
       "    </tr>\n",
       "    <tr>\n",
       "      <th>1</th>\n",
       "      <td>1</td>\n",
       "      <td>1</td>\n",
       "      <td>42</td>\n",
       "      <td>Cabbage Soup</td>\n",
       "      <td>1538</td>\n",
       "      <td>Duckie067</td>\n",
       "      <td>PT30M</td>\n",
       "      <td>PT20M</td>\n",
       "      <td>PT50M</td>\n",
       "      <td>Make and share this Cabbage Soup recipe from F...</td>\n",
       "      <td>...</td>\n",
       "      <td>4.8</td>\n",
       "      <td>17.7</td>\n",
       "      <td>4.3</td>\n",
       "      <td>c(\"Mix everything together and bring to a boil...</td>\n",
       "      <td>46368</td>\n",
       "      <td>71084</td>\n",
       "      <td>smurfy57</td>\n",
       "      <td>2.666667</td>\n",
       "      <td>This is a very good soup.  We served ours warm...</td>\n",
       "      <td>['This', 'a very good soup', 'We', 'ours', 'so...</td>\n",
       "    </tr>\n",
       "    <tr>\n",
       "      <th>2</th>\n",
       "      <td>2</td>\n",
       "      <td>2</td>\n",
       "      <td>44</td>\n",
       "      <td>Warm Chicken A La King</td>\n",
       "      <td>1596</td>\n",
       "      <td>Joan Edington</td>\n",
       "      <td>PT3M</td>\n",
       "      <td>PT35M</td>\n",
       "      <td>PT38M</td>\n",
       "      <td>I copied this one out of a friend's book so ma...</td>\n",
       "      <td>...</td>\n",
       "      <td>3.1</td>\n",
       "      <td>5.0</td>\n",
       "      <td>45.3</td>\n",
       "      <td>c(\"Melt 1 1/2 ozs butter, add the flour and co...</td>\n",
       "      <td>14</td>\n",
       "      <td>2085</td>\n",
       "      <td>Tony Small</td>\n",
       "      <td>4.545455</td>\n",
       "      <td>An excellent dish.It is a great meal I put it ...</td>\n",
       "      <td>['An excellent dish', 'It', 'a great meal', 'I...</td>\n",
       "    </tr>\n",
       "    <tr>\n",
       "      <th>3</th>\n",
       "      <td>3</td>\n",
       "      <td>3</td>\n",
       "      <td>49</td>\n",
       "      <td>Chicken Breasts Lombardi</td>\n",
       "      <td>174711</td>\n",
       "      <td>Queen Dragon Mom</td>\n",
       "      <td>PT30M</td>\n",
       "      <td>PT45M</td>\n",
       "      <td>PT1H15M</td>\n",
       "      <td>Make and share this Chicken Breasts Lombardi r...</td>\n",
       "      <td>...</td>\n",
       "      <td>0.6</td>\n",
       "      <td>2.0</td>\n",
       "      <td>57.9</td>\n",
       "      <td>c(\"Cook mushrooms in 2 tbsp butter in a large ...</td>\n",
       "      <td>17145</td>\n",
       "      <td>19893</td>\n",
       "      <td>Luke Meakins</td>\n",
       "      <td>4.350000</td>\n",
       "      <td>I give this recipe a good to high rating becau...</td>\n",
       "      <td>['I', 'this recipe', 'high rating', 'it', 'rea...</td>\n",
       "    </tr>\n",
       "    <tr>\n",
       "      <th>4</th>\n",
       "      <td>4</td>\n",
       "      <td>4</td>\n",
       "      <td>54</td>\n",
       "      <td>Carrot Cake</td>\n",
       "      <td>1535</td>\n",
       "      <td>Marg CaymanDesigns</td>\n",
       "      <td>PT50M</td>\n",
       "      <td>PT45M</td>\n",
       "      <td>PT1H35M</td>\n",
       "      <td>This is one of the few recipes my husband ever...</td>\n",
       "      <td>...</td>\n",
       "      <td>1.6</td>\n",
       "      <td>47.9</td>\n",
       "      <td>5.0</td>\n",
       "      <td>c(\"Beat together the eggs, oil, and white suga...</td>\n",
       "      <td>74639</td>\n",
       "      <td>86318</td>\n",
       "      <td>mianbao</td>\n",
       "      <td>4.235294</td>\n",
       "      <td>I made this according to the recipe, with no s...</td>\n",
       "      <td>['I', 'this', 'the recipe', 'no substitutions'...</td>\n",
       "    </tr>\n",
       "  </tbody>\n",
       "</table>\n",
       "<p>5 rows × 32 columns</p>\n",
       "</div>"
      ],
      "text/plain": [
       "   Unnamed: 0.1  Unnamed: 0  RecipeId                      Name  AuthorId_x  \\\n",
       "0             0           0        40             Best Lemonade        1566   \n",
       "1             1           1        42              Cabbage Soup        1538   \n",
       "2             2           2        44    Warm Chicken A La King        1596   \n",
       "3             3           3        49  Chicken Breasts Lombardi      174711   \n",
       "4             4           4        54               Carrot Cake        1535   \n",
       "\n",
       "         AuthorName_x CookTime PrepTime TotalTime  \\\n",
       "0      Stephen Little     PT5M    PT30M     PT35M   \n",
       "1           Duckie067    PT30M    PT20M     PT50M   \n",
       "2       Joan Edington     PT3M    PT35M     PT38M   \n",
       "3    Queen Dragon Mom    PT30M    PT45M   PT1H15M   \n",
       "4  Marg CaymanDesigns    PT50M    PT45M   PT1H35M   \n",
       "\n",
       "                                         Description  ... FiberContent  \\\n",
       "0  This is from one of my  first Good House Keepi...  ...          0.4   \n",
       "1  Make and share this Cabbage Soup recipe from F...  ...          4.8   \n",
       "2  I copied this one out of a friend's book so ma...  ...          3.1   \n",
       "3  Make and share this Chicken Breasts Lombardi r...  ...          0.6   \n",
       "4  This is one of the few recipes my husband ever...  ...          1.6   \n",
       "\n",
       "  SugarContent ProteinContent  \\\n",
       "0         77.2            0.3   \n",
       "1         17.7            4.3   \n",
       "2          5.0           45.3   \n",
       "3          2.0           57.9   \n",
       "4         47.9            5.0   \n",
       "\n",
       "                                  RecipeInstructions  ReviewId  AuthorId_y  \\\n",
       "0  c(\"Into a 1 quart Jar with tight fitting lid, ...     34854       59064   \n",
       "1  c(\"Mix everything together and bring to a boil...     46368       71084   \n",
       "2  c(\"Melt 1 1/2 ozs butter, add the flour and co...        14        2085   \n",
       "3  c(\"Cook mushrooms in 2 tbsp butter in a large ...     17145       19893   \n",
       "4  c(\"Beat together the eggs, oil, and white suga...     74639       86318   \n",
       "\n",
       "   AuthorName_y    Rating                                             Review  \\\n",
       "0  Missy Wombat  4.333333  My favourite lemonade recipe is essentially th...   \n",
       "1      smurfy57  2.666667  This is a very good soup.  We served ours warm...   \n",
       "2    Tony Small  4.545455  An excellent dish.It is a great meal I put it ...   \n",
       "3  Luke Meakins  4.350000  I give this recipe a good to high rating becau...   \n",
       "4       mianbao  4.235294  I made this according to the recipe, with no s...   \n",
       "\n",
       "                                  extracted_keywords  \n",
       "0  ['My favourite lemonade recipe', 'this', 'the ...  \n",
       "1  ['This', 'a very good soup', 'We', 'ours', 'so...  \n",
       "2  ['An excellent dish', 'It', 'a great meal', 'I...  \n",
       "3  ['I', 'this recipe', 'high rating', 'it', 'rea...  \n",
       "4  ['I', 'this', 'the recipe', 'no substitutions'...  \n",
       "\n",
       "[5 rows x 32 columns]"
      ]
     },
     "execution_count": 46,
     "metadata": {},
     "output_type": "execute_result"
    }
   ],
   "source": [
    "recipes = recipes.head(2000)\n",
    "recipes.head()\n"
   ]
  },
  {
   "cell_type": "code",
   "execution_count": null,
   "id": "84450c55-ab06-4887-866d-286af39fe658",
   "metadata": {},
   "outputs": [],
   "source": []
  },
  {
   "cell_type": "code",
   "execution_count": 47,
   "id": "8231c02f-054f-434a-a85f-4b42718afc85",
   "metadata": {},
   "outputs": [],
   "source": [
    "# import ast\n",
    "# recipes['new'] = recipes['RecipeIngredientParts'].apply(ast.literal_eval)\n",
    "\n",
    "# # Now convert the lists to strings\n",
    "# recipes['new'] = recipes['new'].apply(lambda x: ', '.join(x))\n",
    "# recipes[\"new\"]"
   ]
  },
  {
   "cell_type": "code",
   "execution_count": 91,
   "id": "4403bb07-e814-44be-991a-ba971f571c47",
   "metadata": {},
   "outputs": [
    {
     "data": {
      "text/plain": [
       "Index(['Unnamed: 0.1', 'Unnamed: 0', 'RecipeId', 'Name', 'AuthorId_x',\n",
       "       'AuthorName_x', 'CookTime', 'PrepTime', 'TotalTime', 'Description',\n",
       "       'RecipeCategory', 'Keywords', 'RecipeIngredientQuantities',\n",
       "       'RecipeIngredientParts', 'AggregatedRating', 'ReviewCount', 'Calories',\n",
       "       'FatContent', 'SaturatedFatContent', 'CholesterolContent',\n",
       "       'SodiumContent', 'CarbohydrateContent', 'FiberContent', 'SugarContent',\n",
       "       'ProteinContent', 'RecipeInstructions', 'ReviewId', 'AuthorId_y',\n",
       "       'AuthorName_y', 'Rating', 'Review', 'extracted_keywords'],\n",
       "      dtype='object')"
      ]
     },
     "execution_count": 91,
     "metadata": {},
     "output_type": "execute_result"
    }
   ],
   "source": [
    "recipes.columns"
   ]
  },
  {
   "cell_type": "code",
   "execution_count": 92,
   "id": "ffd40a37-9b7b-4a80-bdd4-69d1d9785206",
   "metadata": {},
   "outputs": [],
   "source": [
    "# Merge recipes and reviews dataframes\n",
    "# merged_df = pd.merge(recipes, reviews, on='RecipeId')\n"
   ]
  },
  {
   "cell_type": "code",
   "execution_count": 93,
   "id": "bfe8ec95-e25a-4cce-975a-ce4a791cecfe",
   "metadata": {},
   "outputs": [],
   "source": [
    "from sklearn.preprocessing import LabelEncoder\n",
    "\n",
    "# Encode RecipeId\n",
    "# label_encoder = LabelEncoder()\n",
    "# merged_df['EncodedRecipeId'] = label_encoder.fit_transform(merged_df['RecipeId'])\n",
    "# Find the maximum label value in your dataset\n",
    "# max_label_value = merged_df['RecipeId'].max()\n",
    "\n",
    "# Increase the number of classes to accommodate the maximum label value\n",
    "# num_classes = max_label_value + 1\n"
   ]
  },
  {
   "cell_type": "code",
   "execution_count": 94,
   "id": "a4cca743-d83a-4ab3-bcb7-0bcdd13dee89",
   "metadata": {},
   "outputs": [],
   "source": [
    "#Language-agnostic BERT Sentence Embedding (LaBSE)\n",
    "from sentence_transformers import SentenceTransformer,util\n",
    "model = SentenceTransformer('LaBSE')"
   ]
  },
  {
   "cell_type": "code",
   "execution_count": 95,
   "id": "b820add9-1fc7-440b-9abe-478f92764765",
   "metadata": {},
   "outputs": [],
   "source": [
    "recipes['Description'] = recipes['Description'].fillna(\"\")\n",
    "recipes['Name'] = recipes['Name'].fillna(\"\")\n",
    "\n",
    "recipes[\"text_features\"] = recipes['Description'] + \". \" + recipes['Name']+\" . \"+recipes['Review']\n",
    "#recipes[\"text_features\"]=recipes[\"extracted_keywords\"]\n",
    "\n",
    "# features = pd.DataFrame({\n",
    "#     'text_features': recipes['text_features'],\n",
    "#     'Calories': recipes['Calories']\n",
    "# })\n",
    "# features_array = features.values.astype(str)  # Convert to string type to avoid data type conflicts\n",
    "# features_list = features_array.tolist()"
   ]
  },
  {
   "cell_type": "code",
   "execution_count": 96,
   "id": "dc73d5a3-153f-48c4-8a88-ca86d50cbd9f",
   "metadata": {},
   "outputs": [
    {
     "name": "stderr",
     "output_type": "stream",
     "text": [
      "Batches: 100%|██████████████████████████████| 1634/1634 [22:56<00:00,  1.19it/s]\n"
     ]
    }
   ],
   "source": [
    "embeddings = model.encode(recipes[\"text_features\"], show_progress_bar=True, convert_to_tensor=True)\n",
    "\n",
    "\n",
    "# for sentence, embedding in zip(recipes[\"text_features\"], embeddings):\n",
    "#     print(\"Sentence:\", sentence)\n",
    "#     print(\"Embedding:\", embedding)\n",
    "#     print(\"\")"
   ]
  },
  {
   "cell_type": "code",
   "execution_count": 114,
   "id": "3dee6566-d54d-4814-8996-86af160138aa",
   "metadata": {},
   "outputs": [],
   "source": [
    "# Function that searches the corpus and prints the results\n",
    "def search(inp_question):\n",
    "    start_time = time.time()\n",
    "    question_embedding = model.encode(inp_question, convert_to_tensor=True)\n",
    "    hits = util.semantic_search(question_embedding, embeddings)\n",
    "    end_time = time.time()\n",
    "    hits = hits[0]  #Get the hits for the first query\n",
    "\n",
    "    print(\"Input question:\", inp_question)\n",
    "    print(\"Results (after {:.3f} seconds):\".format(end_time-start_time))\n",
    "    for hit in hits[0:10]:\n",
    "        print(\"\\t{:.3f}\\t{}\".format(hit['score'], recipes[\"text_features\"][hit['corpus_id']]))\n",
    "    return hits"
   ]
  },
  {
   "cell_type": "code",
   "execution_count": 115,
   "id": "b5d81453-7419-4f21-9dc4-b39958199642",
   "metadata": {},
   "outputs": [
    {
     "name": "stdout",
     "output_type": "stream",
     "text": [
      "Input question: geberate cake recipe with chocolate and fruits\n",
      "Results (after 1.200 seconds):\n",
      "\t0.488\tMake and share this Chocolate Cherry Cake recipe from Food.com.. Chocolate Cherry Cake . Really is a more of a cake then a bar.  But that aside this is very scrumptious cake - reminds me of a chocolate cover cherry with the wonderful chocolate frosting that is more like a thick glaze.  Highly recommended - my husband loved it!!This is a recipe I made for years and I am so happy I found it here again as I lost the recipe. I made this for a birthday at work and they went crazy for it. The cake batter is quite thick and you must mix carefully not to crush the fruit, but you will be rewarded with a moist cake and fudgy frosting that is killer with vanilla ice cream! A comforting dessert that brings rave reviews every time!I made this one this weekend and it was wonderful!! Because I wanted more of a bar than a cake (see PatD's review) I used a Betty Crocker Fudge Brownie mix. We were out of almond extract so I omitted it (good excuse to make them again - must do it right to be fair you know <g>). The brownies were dense and moist. Warning note: If, as I am, you are trying to increase protein and reduce carbs, this is an extremely dangerous and murderously tempting dessert. Run away - I just couldn't! Thanks for posting this one!!SOOOOooooooo yummy!! I'm eating one as I'm writing this. It got rave reviews from guests last night--everyone asked how to make it. Very easy, too!! I'll definitely make this often!!!!These were a hit at my dessert party last week!  (And almost embarrassingly easy to make, too!)  I was hoping for more of a bar-like consistency, so next time I'll try PatD's suggestion of using a brownie mix instead of the cake.  I'm still dreaming about that sinfully delicious chocolate glaze.  YUM! :)This is my husband's favorite cake although I make it with a fudge cake mix.  The frosting is to die for.Yummy. I have been making this cake for years, and it was a big hit with the men at work when I took it to a food day.I made mine in a bundt cake--only needed 1/2 the frosting...delicious and moist, I could eat the whole thing!!   So easy to make!I have been baking this for many many years...I also use other flavors of cake mixes with complimentary pie filling, ex:yellow cake mix with apple pie filling...all simple and deliciousOh my gosh, this is our new FAVORITE dessert! Took 'picky eaters' advice and used large box of Betty Crocker brownie mix with chocolate syrup packet and Comstock ORIGINAL cherry pie filling. Mixed by hand very gently so that cherries remain whole. Slightly underbaked in 13X9. Results were amazing. Try it...you'll love it!I have been making this recipe for years...glad to see it on recipezaar!I made this recipe for a girl that my husband works with as it was her birthday.  Now, I NEVER went into detail to my husband about how it was made...but I called him to see if everyone enjoyed it and the first thing he said was \"Everyone loved it and they couldn't stop talking about how good the frosting was\"... So, there is the proof!!! Thanks for a great recipe!  I'll be sure to use this again and pass it on.Thank you for this recipe. I had it many years ago and lost it when I moved. It's like an old friend...so nice to have it back. The only difference is mine said to frost it while hot. Which ever way you do it I know it's a great cake.WOW!!!  Duckit, thanks for sharing! I didn't have almond extract so I used vanilla and it worked well.  This is a keeper for sure!  A++++++I made your recipe for my daughter's 5th birthday party.  The only difference was making it into cupcakes. She said they were \"AWESOME\"!  I was worried the kids wouldn't eat them with the cherries inside, but they all did.  I actually had more trouble with the adults...  But those who tried them loved them!  (The icing was *super* sweet - I found it didn't need much at all)This cake did not have enough of a cherry flavor, I could barely taste it at all.  I'm going to try it again and use cherry extract along with the almond extract, because the cake itself came out good.The cake was good, but I could hardly taste the cherries.  The icing was very sweet and fudgy.I used a can of black cherry filling that time, then\r\n",
      "I  made this as a layer cake for a birthday and frosted it with a chocolate cream cheese frosting and it was very good.My husband is not a big cherry fan, but loved this. I made it exactly as printed, mixed it in my KitchenAid, and the cherries broke into small bits, so there were cherries in every bite! I was afraid that the frosting/glaze would be too thin, but it stayed where it was put and was perfect. I made mine in a standard bundt pan, and not only did it taste wonderful,  but it looks great too (for as long as it lasts!)I LOVE this cake! And so does everyone I've ever made it for! I like the cherries crushed so I mix it with my KitchenAid stand mixer, but otherwise I followed the recipe exactly and it is wonderful! The cake is so moist and the frosting is incredible. I will never buy frosting in a can again, this recipe is so easy to make and is better than any can frosting! Thank you for posting this recipe - it has become a favorite that I will continue to make. I think I will try some of the cake and pie filling variations as someone else mentioned! Yum!I make this exact same cake recipe, without the frosting. I bake it in a bundt pan, then just sprinkle with powdered sugar or drizzle with a basic chocolate glaze. This is MUCH better the second day, by the way.This cake is absolutely scruptious and so easy to make.  I made it according to the recipe shown and baked it in a bundt pan.  It turned out beautiful and tasted great. Several in the group I made it for said it was the best cake they'd ever tasted.  Thanks for sharing! This one is a keeper.  (I also made it w/yellow cake mix and apple pie filling - still good but the chocolate is best).Delicious! I made it as a Valentine&#039;s treat for my boyfriend who LOVES chocolate and cherries. It was a big hit! And very easy. I think I earned extra points for making the icing (as described here) from scratch - I&#039;ll be using that alone for other recipes, too! &lt;br/&gt;I was a little unclear if I was supposed to add the other ingredients that the chocolate fudge cake mix box called for. Reading this recipe, it didn&#039;t seem like I was supposed to, but using just the egg and the mix and the cherries seemed like an awfully dry mixture, so I added a little water and all was fine.Excellent cake. I use a sugar free cake mix along with no sugar add cherry pie filling. Have not even iced it yet and doubt if I will. Love it just the way it is.I was a bit skeptical of all the rave reviews, especially when combining the ingredients because it was just so thick and also because I bake from scratch. I made this for Father's Day and everyone loved it! I don't care for canned cherries but I also loved this cake! Will definitely make this cake again!Is cake ruined because I forgot the flavoring?So easy to make throw everything in Stir It Up and bake. If You Love chocolates and cherries this is for you. And the icing so yummy.\n",
      "\t0.469\tI love this recipe, it is sooo easy to make but looks really special when done! Oh &amp; it tastes fantastic too! I sometimes add fresh strawberries to the whipped cream for a nice change.. Chocolate Swiss Roll . This was not as rich as some Swiss rolls I have had, but then it took much less time and many fewer eggs and other ingredients. For a 'need it quick' recipe this is a good pick. I did find the chocolate base a bit thin and mine stuck a bit to the pan but after trimming up the edges and dusting with cocoa powder, the finished product looked and tasted quite nice. I added a touch of baileys to the whipped cream for extra zing.Really easy to make, my kids loved this recipe.the bater wasn't enough to do nothing with and the filling tastes a little bitter and i followed the recipe exacti needed a wand cake for my boys 5th birthday magic party. this cake was super easy and very tasty, everyone agreed. i added strawberries and used vanilla sugar instead of castor! i made three cakes and joined them together then covered in dark and white chocolate pieces.Excellent recipe, love it!  I also spread with cherry jam before cream.Didn't really like this recipe. First one I tried for swiss roll but I found it was too thin, should have doubled the recipe.  But for a quick and easy recipe it was good enough since I didn't really want to use all the other recipes that you have to separate the eggs for.I followed the recipe exactly for the batter but I didn&#039;t add the filling immediately.  I let the cake stand for about an hour whilst I did something else.  By the time I tried to put the filling in the cake had degenerated into a sticky mess which was very difficult to work.  The final result looked a bit of a train wreck with a poor texture to the sponge.  The flavor was OK but I have much better recipes for swiss rolls which I will go back to using in the future.  My other recipes have much higher flour content which is why I think they probably have a more &quot;cakey&quot; textureI added a little Cream of Tartar and made a 2/3 version as my pan was smaller. Good texture for rolling, no splits!\n",
      "\t0.468\tMake and share this Cake Batter Fudge recipe from Food.com.. Cake Batter Fudge . OMG !! Excellent !! You can use any flavor cake mix . I have used Yellow , Chocolate and strawberry but it becomes very rich with the strawberry so I use 1 cup strawberry   and 1 cup yellow and its perfect . This is an awesome and easy recipe and I now use all the time . Thank You !Was really rich for my taste, and kinda funky, but the kids loved it and it was super easy. I didnt use a whole box of mix tho, and it seemed to me that the recipe should have.Followed the recipe to a T and all I got was a crumbly mess.  Seems to be missing something to make it hold together.I had to add about 3 Tbl of milk to get it creamy and then solicit assistance stirring it smooth, but it&#039;s heavenly. I used the Betty Crocker Devils food with pudding in the mix and it smells like hot chocolate in fudge form!At the last minute, I realized I didn&#039;t have yellow cake mix! I used lemon cake mix instead. Very lemony and sweet, but still worked!Oh my goodness, this is amazing! I would never have thought to use cake mix to make fudge, but this is honestly so scrumptious and SO easy to make! A total winner here!I doubled the recipe but otherwise followed it to a T. It was a little too sweet for my tastes; however, it looks like at least one of my kids like it. Next time maybe I wouldn't add so much powdered sugar and perhaps put in a drop of vanilla into the butter before mixing it into the cake mix. Thanks for sharing.I have made this recipe so many times and I absolutely love it and so does my family. I have found that when making a batch, you are left with about 1 cup of cake powder! It's possible to make a smaller batch, but if you make it with 1 cup of cake batter and 1 cup of powder sugar, use only 1/4 of butter, and when baking in the microwave, ONLY BAKE FOR 1 MINUTE or you will end up with a crumbly burned mess. This recipe is so simple and easy to do, and I enjoy making it... especially eating it afterwards!It was way too sweet, also it was very dry so I had to add much more milk but it was still too sweet. Also, the texture was very grainy and unenjoyable. I just can't get past the weird texture l. Please fix this, thank youI have conquered the sugar demon. I have hypoglycemia so I can't ever over indulge. I use Stevia or Splenda for baking by putting the Splenda in a blender and whirring it...it turns to powder..I then add a tablespoon of cornstarch to each cup of 'powdered sugar'. Voila! Confectioners sugar!\n",
      "\t0.465\tThis recipe is from the Betty Crocker 1971 recipe card set. I posted it in response to a request for recipe on the boards. The recipe can easily be cut in half for six servings.. Baked Custard With Berries . I have loved egg custard ever since I was a little girl. My mom used to make it for me all the time. This is a delicious recipe.  I like to add just a touch more sugar to my custard.  I will serve this custard with sliced strawberries sprinkled with sugar. This custard was exellent!I did add just a couple tbls. more sugar. I didn't have any fresh fruit, so I drizzled over some caramel syrup I had made. Wonderful! Thanks so much. I'm so glad I picked this for the One Hit Wonders game!I love custard and this was very easy. I like that I didn't have to keep an eye over the stove on it. We used strawberrier and whipped cream on top. Thank you for such an easy recipeI LOVELOVELOVE baked custard!  I ate it all day long.  I like that it's not too sweet.  I had it with strawberries & bluberries & I'm in heaven.  :)  Thanks!!Since I was old enough to sit w/my grandma at her breakfast room table, baked custard has been my ultimate comfort food. DH had dental work done yesterday, so I made this as comfort food for him too. It did not seem as dense as what she always had waiting for us when we arrived, but I used a reduced fat milk & I am sure she would have used a full fat milk + maybe more egg as well. I used ramekins & added 1 extra tbsp of sugar after reading reviewer comments. The fresh berries at the store looked pretty pitiful, so I put some grapes beside the custard when I served it & in the pic. I am so glad I chose this recipe for PAC. It was a pleasure to revisit my memories w/your lovely custard. DH was a hoot! He kept coming into the kitchen, pointing to his swollen face & saying - My mouth really hurts! Can I have more custard? Pls see my rating system - a very worthy 4 stars. Thx for comforting both of us w/this recipe.What a lovely custard - with the baking making it all so easy. Rarely make custard so this made for a real taste treat! Topped with a dollop of whipped cream and an offering of berries - used some of my saskatoon topping from the freezer, as well as raspberries and fresh lush and sweet strawberries. Pure delight!Super fantastic!! The best custard I have ever made.LOVED IT!  PanNan, this is pure comfort food!  I used freshly ground nutmeg and topped it with raspberries, but it was so good it wouldn't need a topping.  Thank you for posting!  Made for ZWT, please see my rating system as I rate tougher than most.Wow, we really enjoyed this recipe PanNan. The custards were awesome, they set beautifully. They were quick and really easy to make, resulting in lovely, smooth and silky custard that was topped with stewed strawberries, blueberries and raspberries and garnished with a little whipped cream. Thank you for sharing this decadent treat. made for CQ4-Scandinavia.\n",
      "\t0.464\tThis is a fudgey, brownie-like cake with a chocolate cream cheese frosting and a sweet raspberry filling. It is decadence at its best.. Dark Chocolate Cake With a Raspberry Filling . This is now my family's favorite cake. I made it for my daughter's birthday, and my husband has already told me he wants me to make one for his birthday. I followed the directions exactly as written and this turned out really well. The cake is rich and moist and the raspberry filling was a nice little sweet surprise in the middle. The frosting was probably the best frosting I've ever made. Amazing recipe. I made this cake for Valentine's Day as a decadent treat for my friends. The directions specify to \"pour\" the batter into the two cake pans, but it's TOO thick to pour. Don' be alarmed, this cake has a brownie consistency---the batter is very thck and gooey. Make sure to spead even in the pan and not worry that it isn't rising. I saved time by using Betty Crocker's dutch chocolate frosting and no one was the wiser. The filling is super easy and GREAT!!! My daughters made this cake for my birthday as they know that I love dark chocolate and raspberries.  It was fabulous! This has definitely become a family favorite :-)This has to be the BEST chocolate cake ever!!! I asked for this cake for my birthday and loved it! The cake is dense like a brownie and the tart raspberry sauce compliments the sweet chocolate.  It does require a little time to make, but it is well worth it (as I made it later for my mom's birthday).  You must try this delicious cake!  My daughter requested a chocolate cake with raspberries for her birthday last week. This cake fit the bill perfectly. As the description said, the consistency is more like a brownie, but it is really quite wonderful. We all enjoyed it, & my daughter couldn't have been happier with her birthday cake. I made it in heart shaped pans, as her birthday is just a few days before Valentine's Day, and the presentation was beautiful.Too rich for my blood.  The cake was very dense and took longer to bake than instructed.I'm not much of a cook but I found this recipe on here about 1.5 years ago.  My boyfriend and his kids are chocolate crazies!  I decided to try it for his daughter's 18th birthday. OMG... they loved it!!  I was tickled pink and very proud of myself.  Fast forward 1.5 years to today and his other daughter is having a housewarming party.  He asks her what should we bring.  Her cousin in the background says \"tell 'em to bring that chocolate raspberry cake thing she made!\"  I was so excited!  I ran to my recpie binder and my heart sunk when I realized I didn't print it. Where in the world did I find it?  You'll never guess so I'll just tell you... I found it bookmarked on MY BLACKBERRY!   I love that thing and we love this cake.  Thank you for making a \"non cooking/baking\" person such a hit!MMmmmmmm...very rich and VERY good!!!  I have made this twice now and it's a big hit.  The only thing I noticed is that the frosting doesn't call for milk...so I added that on my own.  Also, the second time I also added whipping cream, chocolate mousse, and fresh raspberries to the middle along with the raspberry sauce and topped the frosting with chocolate covered raspberries and shaved chocolate crumbs.  The problem is that everything falls out of the center.  Next time I will be baking a double batch of cake; cutting out the center of two of them so the rings can hold in all the fillings in the middle!!This was my first shot at trying to make a cake ever and it turned out so well I was shocked!  The recipe is easy to follow and the results are amazing!  I think I dirtied every dish in the house in the process but it was worth the effort.  I did cupcakes instead of a whole cake because I didn't have any other kind of pan at home.  I cut the out the tops of the cupcakes and filled them with the raspberry filling and poked the tops back on sealing them in place with the frosting it was delicious!  Hopefully my picture will be up soon!  Thank you so much for this recipe!Lovely, decadent and delicious cake that I just love!  If you want to impress, make this for someone special for their birthday.  They will think they are very special indeed!This cake was absolutley horrible.  I folowwed the recipe to a q and it came out awful.  I used the same exact ingredients and everything.  It was dry and hard and just disqusting.  The filling was wonderful however it dispointed me how the recipe uses frozen raspberries instead of fresh.  The frosting was amazing too.  But the cake just ruined it for me.I made this last night for two girl friends and we were practically orgasmic over the results. The person who gave this a horrible review obviously did not do the recipe correctly. It turned out wonderfully. The only change I made was to use DARK CHOCOLATE COCOA POWDER for the frosting. Keeping everything DARK CHOCOLATE is the key to making it fantastic. There is nothing more yummy than dark chocolate and raspberries together. Will definitely make again!!Made this for a coworkers wedding shower and it was as impressive as it was delicious. I shaved a little gourmet bittersweet chocolate over the top. Very rich but the raspberries cut through it nicely.Prep time is definitely longer than 15 minutes, unless she means once you have measured and prepared everything. Does use lots of dishes and measuring cups/spoons so quite a cleanup. Recipe says to bake 20 mins or until toothpick comes out clean. At 20 mins my cake was still wet and gooey on the toothpick. At 24 it still wasnt clean. I finally removed it at 26 even though the toothpick still had sticky chocolate traces on it. I think it was overbaked. It probably needs to be treated like a pan of brownies that appears slightly underbaked. The cake was very dense but too firm and not like a fudgy brownie (almost firm like a flourless chocolate torte) which I think was due to overbaking. This is definitely for a sweet tooth and brownie torte lovers. The filling was good. Frosting was good too. Don&#039;t keep it out of the fridge too long after making it or it will be too soft to frost the cake and you wont get nice swirls. I would make the frosting after the cake is cool and ready to frost for easier decorating. I am going to try this cake with a less dense/brownie like cake recipe. Heads up....a tiny slice goes a long way you could probably feed 16 people with this cake after a meal since it&#039;s so rich..half a normal slice is plenty. &lt;br/&gt;&lt;br/&gt;Bottom line dont bake it for much longer than the recommended 20 mins even if the toothpick isnt clean. Don&#039;t choose this recipe if you dont like heavier, truffle like cake recipes.I made this for my dbf&#039;s birthday and it was a huge hit! I don&#039;t usually love chocolate cake but this is more like a huge fudgy brownie with frosting. The raspberries lend a wonderful tartness to cut the sweetness of the rest of the cake. Only a couple of notes...I think 15 minutes is a little optimistic for prep time because there are three separate steps but even a novice baker can handle them one at a time. The other thing is rather funny...I&#039;m impatient and I always want to get to the cake so I don&#039;t prepare the pans ahead of time. Don&#039;t be like me! By the time I washed and greased the pans the batter was so thick I had to play mud pies with it! It didn&#039;t effect the terrific end result but I made a mess pressing the batter in the heart shaped pans with my fingers! This is an outstanding cake if you want something different. Thanks for the great recipe!&lt;br/&gt;Just an update: After polishing off every last crumb of this cake  we all declared this the best cake we have EVER had. If you are reading this recipe...don&#039;t hesitate to make it, you won&#039;t be sorry!&lt;br/&gt;Another Update: I made this as cupcakes(just the cake) for my BBF&#039;s son&#039;s wedding reception. I filled them with vanilla creme and placed a bowl of fudge frosting next to them for people who wanted it(didn&#039;t need it at all).They RAVED about it. I don&#039;t like chocolate cake, especially dark chocolate yet I have to admit that not all of them reached the reception and for some strange reason:) my dress didn&#039;t fit as well as before...good thing I made lots!delicious. made for my daughter&#039;s birthday. as stated by other reviewers, the cake is very dense and brownie like, do not overbake. filling was a little sweeter than i would have liked, i used fresh raspberries and had to use a little more cornstarch and sugar to get a filling consistency. cream cheese frosting was very good, recipe made just the right amount. &lt;br/&gt;overall-very rich cake, a small piece goes a long way, but delish. takes a while to make, but worth it.\n",
      "\t0.462\tMake and share this Crock Pot Soda Cake recipe from Food.com.. Crock Pot Soda Cake . This really was easy, and soooooooooo delicious! It has more consistency then a cake you bake in the oven. I added whipped topping and fruit sauce on top and it was just absolutely great. Everybody loved it!Well, this did not work for me at all but I think I messed up so I am simply warning people!  After about 3 hours it had not set up so I turned it to high.  Don't do this!!  It never fully cooked but burned pretty badly.  So don't do what I did!  :)Very good very moist cake!  Of course, the time you want to make a cake is for when you want a bunch of people eating it, and it is not pretty and you cant ice it or anything like that...but it is VERY moist and tastes very good!  I used spice cake and diet 7-up.This was pretty good considering there was almost no effort involved.    I tried it with a dark chocolate cake mix and a Pepsi.  I served it warm with vanilla ice cream on top.  I would make again if I wanted something sweet with minimal effort involved.This is a recipe I have been making for some time.  It is a weight watchers recipe when made with diet coke.  It can also be cooked in the oven.  I can't remember the point value, but I know it is quite low.I tried this today using lemon cake mix and diet mountain dew, I thought it was pretty good and will definetly satisfy your sweet tooth if your on a diet, I added a spoonful of frozen vanilla yogurt to top it off.I just made two different cakes in my Crock-pot. The first was Dark-chocolate and Pepsi, and I disliked it very much, but mostly because of the flavoring. I also tried Devil's Food with Red Raspberry Izze Soda. I recommend this one. The Izze Soda has 70% juice and sparkling water making it a healthier and better tasting alternative to sodas full of High Fructose Corn Syrup. This Raspberry Chocolate Cake was great. I cooked it for 3 hours, and it was just about perfect. Very moist and rich.It's not pretty... so I won't make this for a party or anything. My cake was so moist it fell apart instantly. It did taste really good & I didnt have to use the oven which will be great for summer. I used orange soda & vanilla cake- topped with whipped cream it was sorta creamsicle like =)More 3.5 stars.  I used Devils food cake and Orangina soda.  Maybe I didn't cook it long enough but it came out very fudgy.  We've been topping with whipped cream, but I'm getting some ice cream for the rest.  I will make it again but try less soda.  Oh, and line the lid with paper towels to minimize the condensation returning to the cake.You know that person was right, the cake does come out fudgy. Using less soda could have compensated for this and made the cake more solid. Also they were correct about the condensation on the lid, the water from the soda steams and collects on the lid, and then drips back into cake. That&#039;s why it&#039;s important to remove that excess moisture. Additionally my cake fell apart instantly too, just like that other person. I used coca-cola in my cake yet I could hardly taste it. Maybe it was because I made my own cake mix instead of using a pre-made box cake mix. I don&#039;t know if cooking the cake on low for more hours would have done any good because then the surface of the cake would have probably burned. &lt;br/&gt;Thank you for reading this&lt;br/&gt;-Kernel Cornit didnt turn outIt turned out great. I used 2 boxes of banana bread mix and 20 oz of mango fizzy soda. I lined the slow cooker with baking paper and put papervtowel and a tea towel under the lid to catch the condensation..very happy with the result\n",
      "\t0.461\tI found this recipe and gave it a shot - and was amazed! The recipe didn't specify any specific size of cake cake mix, but I just used the basic size you find at the grocery store. So far, I've made lemon cake mix w/ Diet Sprite &amp; Chocolate cake mix w/ Diet Coke. This is truly amazing- no eggs, oil, etc.. Diet Soda Cake . This is crazy (and very very tasty!).  Orange soda & vanilla cake mix are a great combo.  You can top it with fat free whipped cream mixed with a package of fat free pudding mix (yum!)Crazy but true! I used Betty Crocker lemon cake mix and diet Squirt. Very good! Can't wait to try other combos - vanilla cake w/diet rootbeer? Vanilla cake with peach Fresca? Chocolate cake with raspberry Diet Rite? The options are limtless! Thanks for posting!!This is a great and easy recipe.  I've made it seveal times, but instead of making it in a 9X13\" pan, I divide the batter into 24 cupcakes.  After they're cool, I slice them in half horizontally, add a tablespoon or so of frozen whipped topping, sandwich it in, and pop them in the freezer.  It makes a nice low-fat snack.  I believe this is a Weight Watchers recipe.  \r\n",
      "\r\n",
      "I've made lemon with Fresca and Chocolate w/ Diet Coke.  The chocolate is our favorite.I have done this several times. You can cut up the cake and layer it in a bowl with strawberries and coll whip. Very good and low in calories!!I'll admit I was quite skeptical about this, but was pleasantly surprised (chocolate cake mix with Diet Coke).  While it seemed to fall a bit in the middle, it wasn't too bad; it just didn't mound in the middle like it usually does.  Also, the crumb is quite fine and the cake almost falls apart, but I kept it in the fridge because of the frosting, anyway and it held together much better after it was chilled.  Thanks so much for posting this!!i mixed yellow cake with diet dr. pepper and made two dozen cupcakes that i \"frosted\" with cool whip free and a roll in sliced almonds.  my goodness, so easy and delicious.  and for those of you on ww, these cupcakes are only 2 points a piece!I was out of eggs but needed a cake!  This recipe is outstanding!!  I used yellow cake mix, and Diet Sunkist sparkling lemonade, SO GOOD!  I also put in a couple cups of chocolate chips, so when the cake was done it tasted like chocolate chip cookie dough.  I also used cream cheese frosting on top.  The cake came out super moist and almost more brownie like than cake like, which was exactly what I love!  Thanks.OMG!!! This was sooo good!! I am a WW member and this fits right into my plan. My kids didn't know any different when I gave it to them. I used chocolate/diet coke and baked it for 3 minutes less than the pkg called for. I can see where people say it is a little crumbier. Mine came out moist and it was delicious.I'm giving this only a moderate rating since my combinatination of flavors was a HUGE bust. The spring and moistness of the cake was wonderful. I chose orange cake with Diet Sierra Mist (lemon lime) thinking it would be kinda a creamsicle but BLECH. I tossed it I need to mix Diet cream soda with the orange to get that flavor. DUH  Beware of orange and lemon lime. haha I will try making the cake again. BTW it is 5 points plus on the new Weight Watcher plan.I made this recipe tonight with chocolate cake mix and diet cake, but I used a sugar free cake mix. Delicious and I'm sure this lowers the calories too!WOW!!! I don&#039;t think ill ever make a regular cake again! I made cupcakes and frosted them with whipped Topping and strawberry&#039;s! SupBurb!! baked up Beautifuly! fluffy and moist! I used diet Moutain Dew and a white cake mix! Im not even going to tell my family that they are lower in calories...lolWho would think this recipe would be so great!  Amazing and so easy!  Believe me I was skeptical!Tried this mixture...cupcakes looked great coming out of the oven but a few minutes later when they had cooled a bit and I tried one they were gummy inside.\n",
      "\t0.461\tMake and share this Strawberries With Cheesecake Cream recipe from Food.com.. Strawberries With Cheesecake Cream . Okay, so I've made this dessert a bunch of times since New Years. For Valentine's Day, I mixed the strawberries with milk chocolate shavings and used chocolate wafer crumbs instead of vanilla. Also excellent!What a fabulous idea, beautifully executed! Simple, simple, simple; but elegant and delicious. I had a cup of cream cheese that needed using up so I doubled the recipe. This will be delicious with all kinds of fruit - tomorrow we'll put what's left on cherries with a little kirsch.Boy, a real keeper!  I 0 % fatted it, with 0% cream cheese, skim milk, nutrisweet, etc, and didn't use the cookies.  I used a combo of strawberries and blueberries for the fruit.  Really good, really fast, really pretty!  I think it would be lovely with peaches...and cherries would be great---next time!Made this to use up some strawberries and cream cheese I had in the fridge -- everyone loved it! I omitted the orange liqueur (didn't have anything but red wine and Kahlua in the house), and I had to quadruple the recipe to have enough for everyone (we have 8 people in the house, three of whom eat like \"growing boys\") . I actually found the cream part a bit too sweet as-is, so I added an extra half-cup of cream cheese and a little bit of creme fraiche to cut the sweetness (I think it was my very sweet oj that did it). Great recipe, gives you that cheesecake flavor without all the effort and oven time. We'll be using this one again for sure (maybe with raspberries next time)!Very very good and easy dessert!  I used light cream cheese and splenda and it was still really delicious. We didn't have any vanilla wafers so I used some crumbled leftover oatmeal cookies which worked great. I think graham crackers would have been good as well. Thanks for a great recipe that I know we will be making often!Made this Valentine's Day for an easy dessert and it was great.  I used homemade gingersnaps in place of vanilla wafers to give it a special flavor and served whole cookies on the side!  Thanks for a great recipe :)This recipe was great! It was very easy, didnt have the cookies-so I used graham crakers-Tasted just like cheese cake. My husband wanted more cream in his. Next time I'll double the cream part-that should make him happy! Thanks for the recipe. MJC I made this for the dessert of an anniversay dinner for my husband. He loved it and renamed it \"cup of goodness\". He requests it at least once a month. Thanks gingerbear!This was easy and tasty. Thanks.great easy recipe loved it\n",
      "\t0.460\tMake and share this Fruit Cocktail Cake recipe from Food.com.. Fruit Cocktail Cake . This recipe is so quick and easy to make.  It has a great taste.  It would be great topped with some low fat whipped topping.  Excellent recipe.  Thanks for sharing it.Easy to make and delicious!Good quick and easy recipe. My only problem was the pudding like quality. I liked mine more cakey so I put it back in the oven. Mabye I used too small a pan and that was the problem. I'm not sure. But after I put it back in the oven longer it tastes great. I will use this recipe again.This was very good.  I substituted 1/4 cup egg substitute for the egg and light olive oil for the canola oil.  Thanks for the recipe.Very easy to make and tastes great.  Nice with low fat whipped topping for me and ice cream for hubby.Super flavor. I had a 32oz can of fruit cocktail and used about half of the can. I have cooked these cakes before and used brown sugar, but this cake used white sugar and not as much baking soda or salt and I liked that. I made this for a friend who had this cake when a boy and now he is  a senior citizen. He said \"he died and went to heaven\" when he tasted this cake. Thanks.Deliscious thanks for posting.\n",
      "\t0.457\tMake and share this Easy Strawberry Shortcakes recipe from Food.com.. Easy Strawberry Shortcakes . This was a yummy, simple dessert. I made as posted except I used regular chocolate sauce instead of the magic shell. It turned out great and it was REALLY a kid pleaser!\r\n",
      "Thanks for a simple but delicious recipe!Great and EASY recipe!! The kids loved making them, too!  I used the Magic Shell, which I love, and it was wonderful! Thanks for sharing!good cakesMy grandkids loved this thanks for posting.Delicious!  This is the way we always make strawberry shortcakes.  I use sugar instead of Splenda and skip the chocolate syrup.Loved it!  I love strawberries but my husband does not, so this is a just right serving when I'm craving strawberry shortcake.  (I used two Twinkies though!)\n"
     ]
    }
   ],
   "source": [
    "hits=search(\"geberate cake recipe with chocolate and fruits\")"
   ]
  },
  {
   "cell_type": "code",
   "execution_count": 116,
   "id": "29d03651-a1b4-42a7-8b7f-44f843605dd4",
   "metadata": {
    "scrolled": true
   },
   "outputs": [
    {
     "data": {
      "text/plain": [
       "Unnamed: 0.1                                                               3859\n",
       "Unnamed: 0                                                                 3859\n",
       "RecipeId                                                                  17795\n",
       "Name                                                      Chocolate Cherry Cake\n",
       "AuthorId_x                                                                26416\n",
       "AuthorName_x                                                             duckit\n",
       "CookTime                                                                  PT35M\n",
       "PrepTime                                                                  PT15M\n",
       "TotalTime                                                                 PT50M\n",
       "Description                   Make and share this Chocolate Cherry Cake reci...\n",
       "RecipeCategory                                                          Dessert\n",
       "Keywords                                     c(\"< 60 Mins\", \"For Large Groups\")\n",
       "RecipeIngredientQuantities         c(\"1\", \"21\", \"1\", \"2\", \"1\", \"5\", \"1/3\", \"1\")\n",
       "RecipeIngredientParts         c(\"cherry pie filling\", \"eggs\", \"white sugar\",...\n",
       "AggregatedRating                                                            5.0\n",
       "ReviewCount                                                                26.0\n",
       "Calories                                                                  186.3\n",
       "FatContent                                                                  7.6\n",
       "SaturatedFatContent                                                         4.5\n",
       "CholesterolContent                                                         33.5\n",
       "SodiumContent                                                              51.0\n",
       "CarbohydrateContent                                                        29.9\n",
       "FiberContent                                                                0.8\n",
       "SugarContent                                                               18.3\n",
       "ProteinContent                                                              1.6\n",
       "RecipeInstructions            c(\"combine cake mix,pie filling,extract, and e...\n",
       "ReviewId                                                                  29955\n",
       "AuthorId_y                                                                59421\n",
       "AuthorName_y                                                           PatD7277\n",
       "Rating                                                                 4.384615\n",
       "Review                        Really is a more of a cake then a bar.  But th...\n",
       "extracted_keywords            ['a cake', 'then a bar', 'this', 'very scrumpt...\n",
       "text_features                 Make and share this Chocolate Cherry Cake reci...\n",
       "Name: 3859, dtype: object"
      ]
     },
     "execution_count": 116,
     "metadata": {},
     "output_type": "execute_result"
    }
   ],
   "source": [
    "recipes.iloc[hits[0]['corpus_id']]"
   ]
  },
  {
   "cell_type": "code",
   "execution_count": 117,
   "id": "f6376a06-4ea6-4ec2-84e9-9e060049c592",
   "metadata": {},
   "outputs": [
    {
     "data": {
      "text/plain": [
       "'Chocolate Cherry Cake'"
      ]
     },
     "execution_count": 117,
     "metadata": {},
     "output_type": "execute_result"
    }
   ],
   "source": [
    "recipes.iloc[hits[0]['corpus_id']]['Name']"
   ]
  },
  {
   "cell_type": "code",
   "execution_count": null,
   "id": "279937a7-58dc-4e24-be39-595c8e42a0e4",
   "metadata": {},
   "outputs": [],
   "source": []
  },
  {
   "cell_type": "code",
   "execution_count": 111,
   "id": "f1422550-9e75-4bec-962b-aa3ae50322dd",
   "metadata": {},
   "outputs": [],
   "source": [
    "import torch\n",
    "\n",
    "# Assuming 'model' is your model\n",
    "torch.save(model.state_dict(), './bertmodel/model.pth')\n",
    "# Assuming 'embeddings' is your embeddings tensor\n",
    "torch.save(embeddings, './bertmodel/embeddings.pth')\n"
   ]
  },
  {
   "cell_type": "code",
   "execution_count": 113,
   "id": "22f0d796",
   "metadata": {},
   "outputs": [],
   "source": [
    "### howto load it for later\n",
    "model.load_state_dict(torch.load('./bertmodel/model.pth'))\n",
    "model.eval()  # Set the model to evaluation mode if it's for inference\n",
    "embeddings = torch.load('./bertmodel/embeddings.pth')\n"
   ]
  },
  {
   "cell_type": "code",
   "execution_count": null,
   "id": "b4c78ffb",
   "metadata": {},
   "outputs": [],
   "source": []
  },
  {
   "cell_type": "code",
   "execution_count": null,
   "id": "10721d34",
   "metadata": {},
   "outputs": [],
   "source": []
  },
  {
   "cell_type": "code",
   "execution_count": null,
   "id": "68278e61",
   "metadata": {},
   "outputs": [],
   "source": []
  },
  {
   "cell_type": "code",
   "execution_count": 17,
   "id": "693bfd09-dfbd-493c-aed4-b924f7ea070d",
   "metadata": {},
   "outputs": [
    {
     "name": "stdout",
     "output_type": "stream",
     "text": [
      "Input question: Generate fish recipe \n",
      "Results (with max 100 calories):\n"
     ]
    }
   ],
   "source": [
    "# Define your search function\n",
    "def search_abc(inp_question, max_calories):\n",
    "    # Encode the input question\n",
    "    question_embedding = model.encode(inp_question, convert_to_tensor=True)\n",
    "    \n",
    "    # Perform semantic search\n",
    "    hits = util.semantic_search(question_embedding, embeddings)\n",
    "    hits = hits[0]  # Get the hits for the first query\n",
    "\n",
    "    # Filter hits based on calorie constraint\n",
    "    filtered_hits = []\n",
    "    for hit in hits:\n",
    "        corpus_id = hit['corpus_id']\n",
    "        if recipes.loc[corpus_id, 'Calories'] <= max_calories:\n",
    "            filtered_hits.append(hit)\n",
    "\n",
    "    # Display the results\n",
    "    print(\"Input question:\", inp_question)\n",
    "    print(\"Results (with max {} calories):\".format(max_calories))\n",
    "    for hit in filtered_hits[0:10]:  # Display top 10 hits\n",
    "        print(\"\\t{:.3f}\\t{}\".format(hit['score'], recipes.loc[hit['corpus_id'], 'text_features']))\n",
    "    return filtered_hits\n",
    "hits=search_abc(\"Generate fish recipe \",100)"
   ]
  },
  {
   "cell_type": "code",
   "execution_count": null,
   "id": "85e073ae-5d3b-4767-a45c-9029ed82f57d",
   "metadata": {},
   "outputs": [],
   "source": []
  }
 ],
 "metadata": {
  "kernelspec": {
   "display_name": "Python 3 (ipykernel)",
   "language": "python",
   "name": "python3"
  },
  "language_info": {
   "codemirror_mode": {
    "name": "ipython",
    "version": 3
   },
   "file_extension": ".py",
   "mimetype": "text/x-python",
   "name": "python",
   "nbconvert_exporter": "python",
   "pygments_lexer": "ipython3",
   "version": "3.10.8"
  }
 },
 "nbformat": 4,
 "nbformat_minor": 5
}
