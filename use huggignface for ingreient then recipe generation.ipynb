{
 "cells": [
  {
   "cell_type": "code",
   "execution_count": 33,
   "id": "b4866a73",
   "metadata": {},
   "outputs": [],
   "source": [
    "import pandas as pd"
   ]
  },
  {
   "cell_type": "code",
   "execution_count": 34,
   "id": "665a9d54",
   "metadata": {},
   "outputs": [
    {
     "name": "stdout",
     "output_type": "stream",
     "text": [
      " {'generated_text': 'bananas, sugar, eggs, vanilla, vanilla extract, vanilla extract, vanilla extract, vanilla extract, vanilla extract'},\n",
      "bananas, sugar, eggs, vanilla, vanilla extract, vanilla extract, vanilla extract, vanilla extract, vanilla extract\n"
     ]
    }
   ],
   "source": [
    "# Use a pipeline as a high-level helper\n",
    "from transformers import pipeline\n",
    "\n",
    "pipe = pipeline(\"text2text-generation\", model=\"FlightBlaze/name-to-ingr\")\n",
    "prompt = f\"Generate ingredients for a chocolate banana bread\"\n",
    "mode.train(dataset)\n",
    "# Generate text\n",
    "recipes = pipe(prompt, max_length=150, num_return_sequences=1)\n",
    "description=\"\"\n",
    "# Create a prompt with placeholders\n",
    "for recipe in recipes:\n",
    "    description += f\" {recipe},\" \n",
    "print (description)\n",
    "\n",
    "# Print generated recipe\n",
    "for recipe in recipes:\n",
    "    print(recipe['generated_text'])"
   ]
  },
  {
   "cell_type": "code",
   "execution_count": 42,
   "id": "2d492dec",
   "metadata": {},
   "outputs": [
    {
     "name": "stdout",
     "output_type": "stream",
     "text": [
      " 'bananas, sugar, eggs, vanilla, vanilla extract, vanilla extract, vanilla extract, vanilla extract, vanilla extract'\n"
     ]
    }
   ],
   "source": [
    "ingredients=description[19:-2]\n",
    "print(ingredients)"
   ]
  },
  {
   "cell_type": "code",
   "execution_count": 43,
   "id": "cde05790",
   "metadata": {},
   "outputs": [
    {
     "name": "stdout",
     "output_type": "stream",
     "text": [
      "Generate recipe for these ingredients  'bananas, sugar, eggs, vanilla, vanilla extract, vanilla extract, vanilla extract, vanilla extract, vanilla extract'\n",
      "Using a food processor , process the ingredients for a banana bread. cut the bananas into thin slices. cut the bananas into thin slices. cut the bananas into thin slices. cut the bananas into thin slices. cut the bananas into thin slices. cut the bananas into thin slices. cut the bananas into thin slices. cut the bananas into thin slices. cut the bananas into thin slices. cut the bananas into thin slices. cut the bananas into thin slices. cut the bananas into thin slices. cut the banana slices into thin slices. cut the banana slices into squares. cut the banana slices into squares. cut the banana slices into squares. cut the banana slices\n"
     ]
    }
   ],
   "source": [
    "\n",
    "\n",
    "pipe2 = pipeline(\"text2text-generation\", model=\"FlightBlaze/ingr-to-steps\")\n",
    "prompt2 = f\"Generate recipe for these ingredients {ingredients}\"\n",
    "ingredients=description[16:]\n",
    "# Generate text\n",
    "recipes2 = pipe2(prompt, max_length=150, num_return_sequences=1)\n",
    "description2=\"\"\n",
    "# Create a prompt with placeholders\n",
    "for recipe in recipes2:\n",
    "    description2 += f\" {recipe},\" \n",
    "print (prompt2)\n",
    "\n",
    "\n",
    "# Print generated recipe\n",
    "for recipe in recipes2:\n",
    "    print(recipe['generated_text'])"
   ]
  },
  {
   "cell_type": "code",
   "execution_count": null,
   "id": "2cedfe01",
   "metadata": {},
   "outputs": [],
   "source": []
  }
 ],
 "metadata": {
  "kernelspec": {
   "display_name": "Python 3 (ipykernel)",
   "language": "python",
   "name": "python3"
  },
  "language_info": {
   "codemirror_mode": {
    "name": "ipython",
    "version": 3
   },
   "file_extension": ".py",
   "mimetype": "text/x-python",
   "name": "python",
   "nbconvert_exporter": "python",
   "pygments_lexer": "ipython3",
   "version": "3.10.8"
  }
 },
 "nbformat": 4,
 "nbformat_minor": 5
}
